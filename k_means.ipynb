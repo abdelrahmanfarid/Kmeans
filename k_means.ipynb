{
  "nbformat": 4,
  "nbformat_minor": 0,
  "metadata": {
    "colab": {
      "name": "farid k means.ipynb",
      "provenance": [],
      "collapsed_sections": []
    },
    "kernelspec": {
      "name": "python3",
      "display_name": "Python 3"
    }
  },
  "cells": [
    {
      "cell_type": "code",
      "metadata": {
        "id": "hw-yICVfXGM7",
        "colab_type": "code",
        "colab": {}
      },
      "source": [
        "! wget 'http://yann.lecun.com/exdb/mnist/train-images-idx3-ubyte.gz'\n",
        "! wget 'http://yann.lecun.com/exdb/mnist/train-labels-idx1-ubyte.gz'\n",
        "! wget 'http://yann.lecun.com/exdb/mnist/t10k-images-idx3-ubyte.gz'\n",
        "! wget 'http://yann.lecun.com/exdb/mnist/t10k-labels-idx1-ubyte.gz'\n"
      ],
      "execution_count": 0,
      "outputs": []
    },
    {
      "cell_type": "code",
      "metadata": {
        "id": "gjrW82QyXdsL",
        "colab_type": "code",
        "colab": {}
      },
      "source": [
        "! gunzip train-images-idx3-ubyte.gz\n",
        "! gunzip train-labels-idx1-ubyte.gz\n",
        "! gunzip t10k-images-idx3-ubyte.gz\n",
        "! gunzip t10k-labels-idx1-ubyte.gz"
      ],
      "execution_count": 0,
      "outputs": []
    },
    {
      "cell_type": "code",
      "metadata": {
        "id": "QZNDMdOwXzaT",
        "colab_type": "code",
        "colab": {}
      },
      "source": [
        "! ls"
      ],
      "execution_count": 0,
      "outputs": []
    },
    {
      "cell_type": "code",
      "metadata": {
        "id": "EtN4Rz2vZREp",
        "colab_type": "code",
        "colab": {}
      },
      "source": [
        "from mlxtend.data import loadlocal_mnist\n",
        "import matplotlib.pyplot as plt\n",
        "import numpy as np\n",
        "from random import randrange\n",
        "%matplotlib inline\n",
        "\n",
        "Images, Labels = loadlocal_mnist(\n",
        "        images_path='train-images-idx3-ubyte',\n",
        "        labels_path='train-labels-idx1-ubyte')\n",
        "\n",
        "img = Images[20111].reshape(28, 28)\n",
        "plt.imshow(img)\n",
        "print(Labels[20111])\n",
        "#print(type(Labels[0]))\n",
        "K = 60\n",
        "totalnumberofiterations=60\n",
        "\n",
        "testImages, testLabels = loadlocal_mnist(\n",
        "        images_path='t10k-images-idx3-ubyte',\n",
        "        labels_path='t10k-labels-idx1-ubyte')\n",
        "\n",
        "img = testImages[201].reshape(28, 28)\n",
        "plt.imshow(img)\n",
        "print(testLabels[201])"
      ],
      "execution_count": 0,
      "outputs": []
    },
    {
      "cell_type": "code",
      "metadata": {
        "id": "hFEwRiXckCqz",
        "colab_type": "code",
        "colab": {}
      },
      "source": [
        "# malhash lazma \n",
        "centroidRows = K\n",
        "centroidCols = len(Images[0])\n",
        "#gray_scale_limit = 256\n",
        "#Centroids = np.random.randint(gray_scale_limit, size=(centroidRows, centroidCols))\n",
        "#print(Centroids)"
      ],
      "execution_count": 0,
      "outputs": []
    },
    {
      "cell_type": "code",
      "metadata": {
        "id": "gJoxsnCjyZd2",
        "colab_type": "code",
        "colab": {}
      },
      "source": [
        "#Centroids=[Images[700],Images[200],\n",
        " #               Images[500],Images[3],\n",
        "  #              Images[800],Images[1100],\n",
        "   #             Images[1111],Images[2222],\n",
        "    #            Images[3333],Images[4444],\n",
        "     #           Images[5555],Images[1234],\n",
        "      #          Images[4321],Images[2314],\n",
        "       #         Images[15]\n",
        "        #        ]\n",
        "Centroids=[Images[0] for i in range(K)]\n",
        "for i in range(K):\n",
        "  x=randrange(5999)\n",
        "  Centroids[i]=Images[x] \n",
        "  print(x)   \n",
        "\n",
        "# malhash lazma\n",
        "#print(Centroids[0])                \n",
        "Centroids=np.array(Centroids)\n",
        "#print(Centroids[0])"
      ],
      "execution_count": 0,
      "outputs": []
    },
    {
      "cell_type": "code",
      "metadata": {
        "id": "hvl8k-gMg_Yy",
        "colab_type": "code",
        "colab": {}
      },
      "source": [
        "def Euclidean(centroid1d, img1d):\n",
        "    sum = 0\n",
        "    for i in range(len(centroid1d)):\n",
        "        diff = centroid1d[i] - img1d[i]\n",
        "        sum += (diff * diff)\n",
        "    return int(np.sqrt(sum))\n",
        "\n",
        "# print(Euclidean(Centroids[0], Images[0]))"
      ],
      "execution_count": 0,
      "outputs": []
    },
    {
      "cell_type": "code",
      "metadata": {
        "id": "TZ4z5VkfhGMI",
        "colab_type": "code",
        "colab": {}
      },
      "source": [
        "def getImagesCentroid():\n",
        "    CentroidCluster = [[] for i in range(len(Centroids))]\n",
        "    #CentroidCluster=\n",
        "    for j in range(60000):\n",
        "        min = int(1e9)\n",
        "        imageCentroid = -2\n",
        "        for i in range(len(Centroids)):\n",
        "             #temp = Euclidean(Centroids[i], Images[j])\n",
        "            temp=np.linalg.norm (Centroids[i] - Images[j])\n",
        "            if(temp < min):\n",
        "                min = temp\n",
        "                imageCentroid = i\n",
        "        \n",
        "        CentroidCluster[imageCentroid].append(j)\n",
        "\n",
        "    return CentroidCluster"
      ],
      "execution_count": 0,
      "outputs": []
    },
    {
      "cell_type": "code",
      "metadata": {
        "id": "pZAEJ2-7mDex",
        "colab_type": "code",
        "colab": {}
      },
      "source": [
        "def getNewCentroidsfarid(centroidClusters):\n",
        "    newCentroids2d = []\n",
        "\n",
        "    for i in range(K):\n",
        "        if len(centroidClusters[i]) == 0:\n",
        "            print(i , \" is empty\")\n",
        "            newCentroids2d.append(Centroids[i])\n",
        "            continue\n",
        "        \n",
        "        newCentroid1d = [0 for j in range(len(Images[0]))]\n",
        "\n",
        "        for el in centroidClusters[i]:\n",
        "            for index in range(centroidCols):\n",
        "                newCentroid1d[index] += Images[el][index]\n",
        "        \n",
        "        siize = len(centroidClusters[i])\n",
        "        for j in range(centroidCols):\n",
        "            newCentroid1d[j] //= siize\n",
        "\n",
        "        newCentroids2d.append(newCentroid1d)\n",
        "    \n",
        "    return newCentroids2d"
      ],
      "execution_count": 0,
      "outputs": []
    },
    {
      "cell_type": "code",
      "metadata": {
        "id": "GFWvMbJS9gp4",
        "colab_type": "code",
        "colab": {}
      },
      "source": [
        "def getlossfunction(centroidClusters,Centroids):\n",
        "  sum=0;\n",
        "  for i in range(K):\n",
        "     for j in centroidClusters[i]:\n",
        "       sum=sum+np.linalg.norm (np.array(Centroids[i])-np.array(Images[j]) ).astype(int)\n",
        "\n",
        "  return sum      \n",
        "\n"
      ],
      "execution_count": 0,
      "outputs": []
    },
    {
      "cell_type": "code",
      "metadata": {
        "id": "dDj-yTq1kFQm",
        "colab_type": "code",
        "outputId": "eb58b7bb-7238-466f-a520-6c731e65c9fa",
        "colab": {
          "base_uri": "https://localhost:8080/",
          "height": 34
        }
      },
      "source": [
        "#Centroids = np.random.randint(gray_scale_limit, size=(centroidRows, centroidCols))\n",
        "centroidClusters = getImagesCentroid()\n",
        "newCentroids = getNewCentroidsfarid(centroidClusters)\n",
        "print(len(newCentroids))\n",
        "losses=[0 for m in range(totalnumberofiterations)]\n",
        "counterofloss=0\n",
        "\n",
        "#print(\"Sizes : \")\n",
        "#for i in range(len(newCentroids)):\n",
        "#    print(len(newCentroids[i]))\n",
        "   # print(newCentroids)"
      ],
      "execution_count": 0,
      "outputs": [
        {
          "output_type": "stream",
          "text": [
            "30\n"
          ],
          "name": "stdout"
        }
      ]
    },
    {
      "cell_type": "code",
      "metadata": {
        "id": "eTYGb6STqWK-",
        "colab_type": "code",
        "colab": {}
      },
      "source": [
        "numberofiterations =50\n",
        "for i in range(numberofiterations):\n",
        "    print(\"number of iteration :\")\n",
        "    print(i)\n",
        "    print(\"\\n\")\n",
        "    Centroids=newCentroids.copy()\n",
        "    centroidClusters = getImagesCentroid()\n",
        "    newCentroids = getNewCentroidsfarid(centroidClusters)\n",
        "    losses[counterofloss]=getlossfunction(centroidClusters,Centroids)\n",
        "    counterofloss=counterofloss+1\n",
        "    error=int(np.linalg.norm ( Centroids - np.array(newCentroids)))\n",
        "    if(error==0): \n",
        "      print(\"you reached a steady state\")\n",
        "      break;\n",
        "    \n",
        "\n",
        "\n",
        "Centroids=newCentroids.copy()\n",
        "\n",
        "\n",
        "\n"
      ],
      "execution_count": 0,
      "outputs": []
    },
    {
      "cell_type": "code",
      "metadata": {
        "id": "87APtiAiEFWE",
        "colab_type": "code",
        "outputId": "c2cca2d7-04f8-42b4-92c0-4a1cc994965f",
        "colab": {
          "base_uri": "https://localhost:8080/",
          "height": 330
        }
      },
      "source": [
        "\n",
        "print(losses)\n",
        "array=[i for i in range(50)]\n",
        "array2=[0 for i in range(50)]\n",
        "plt.figure()\n",
        "for j in range(50):\n",
        "  array2[j]=losses[j]\n",
        "plt.plot(array,array2)\n"
      ],
      "execution_count": 0,
      "outputs": [
        {
          "output_type": "stream",
          "text": [
            "[102184165, 97492756, 94587283, 93372030, 92948539, 92746464, 92628042, 92548625, 92488054, 92435478, 92390070, 92345755, 92300100, 92246932, 92192810, 92139244, 92081738, 92020903, 91950620, 91879353, 91811014, 91744344, 91679197, 91616147, 91556650, 91501930, 91457135, 91419365, 91391069, 91370439, 91355113, 91342110, 91330346, 91319542, 91311933, 91305496, 91297762, 91292440, 91287583, 91282781, 91277870, 91272941, 91268949, 91265536, 91262193, 91259117, 91256716, 91253272, 91250646, 91247939, 0, 0, 0, 0, 0, 0, 0, 0, 0, 0, 0, 0, 0, 0, 0, 0, 0, 0, 0, 0, 0, 0, 0, 0, 0, 0, 0, 0, 0, 0, 0, 0, 0, 0, 0, 0, 0, 0, 0, 0, 0, 0, 0, 0, 0, 0, 0, 0, 0, 0, 0, 0, 0, 0, 0, 0, 0, 0, 0, 0, 0, 0, 0, 0, 0, 0, 0, 0, 0, 0]\n"
          ],
          "name": "stdout"
        },
        {
          "output_type": "execute_result",
          "data": {
            "text/plain": [
              "[<matplotlib.lines.Line2D at 0x7f31a0096358>]"
            ]
          },
          "metadata": {
            "tags": []
          },
          "execution_count": 15
        },
        {
          "output_type": "display_data",
          "data": {
            "image/png": "[encoded data removed]",
            "text/plain": [
              "<Figure size 432x288 with 1 Axes>"
            ]
          },
          "metadata": {
            "tags": []
          }
        }
      ]
    },
    {
      "cell_type": "code",
      "metadata": {
        "id": "VRqUlLi04Xr0",
        "colab_type": "code",
        "colab": {}
      },
      "source": [
        "def getclusterlabel(centroidClusters):\n",
        "  centroidlabels=[0 for m in range(K)]\n",
        "  #frequencyarray=[0 for m in range(10)]\n",
        "\n",
        "  for i in range(K):\n",
        "     frequencyarray=[0 for m in range(10)]\n",
        "     for j in range(len(centroidClusters[i])):\n",
        "       zed=Labels[centroidClusters[i][j]].astype(int)\n",
        "       \n",
        "       frequencyarray[zed]=1+frequencyarray[zed]\n",
        "       temp=frequencyarray.index(max(frequencyarray))\n",
        "     centroidlabels[i]=temp\n",
        "    # print(centroidlabels[i]) \n",
        "\n",
        "  return centroidlabels       \n",
        "\n",
        "\n",
        "\n",
        "    \n"
      ],
      "execution_count": 0,
      "outputs": []
    },
    {
      "cell_type": "code",
      "metadata": {
        "id": "qFJclK9XECr-",
        "colab_type": "code",
        "colab": {}
      },
      "source": [
        "     clusterlables=getclusterlabel(centroidClusters)        "
      ],
      "execution_count": 0,
      "outputs": []
    },
    {
      "cell_type": "code",
      "metadata": {
        "id": "owEYWm45wplS",
        "colab_type": "code",
        "colab": {}
      },
      "source": [
        "#print(Centroids[0])\n",
        "#print(len(Centroids[0]))\n",
        "#print(newCentroids[8])\n",
        "for i in range(K):\n",
        "     img = np.array(newCentroids[i]).reshape(28, 28)\n",
        "     plt.figure()\n",
        "     plt.imshow(img)\n",
        "\n",
        "\n"
      ],
      "execution_count": 0,
      "outputs": []
    },
    {
      "cell_type": "code",
      "metadata": {
        "id": "ojHf8r54iCMn",
        "colab_type": "code",
        "colab": {}
      },
      "source": [
        "#show representatives\n",
        "\n",
        "img = Images[testcentroidClusters[14][359]].reshape(28,28)\n",
        "plt.figure()\n",
        "plt.imshow(img)\n",
        "img = Images[testcentroidClusters[14][360]].reshape(28,28)\n",
        "plt.figure()\n",
        "plt.imshow(img)\n"
      ],
      "execution_count": 0,
      "outputs": []
    },
    {
      "cell_type": "code",
      "metadata": {
        "id": "xXneaCEgxNro",
        "colab_type": "code",
        "colab": {}
      },
      "source": [
        "print(clusterlables)"
      ],
      "execution_count": 0,
      "outputs": []
    },
    {
      "cell_type": "code",
      "metadata": {
        "id": "roql6uxp4aOI",
        "colab_type": "code",
        "colab": {}
      },
      "source": [
        "#mesh mohema\n",
        "for i in range(len(centroidClusters)):\n",
        "  print(len(centroidClusters[i]))"
      ],
      "execution_count": 0,
      "outputs": []
    },
    {
      "cell_type": "code",
      "metadata": {
        "id": "VK8R-sTUIcHB",
        "colab_type": "code",
        "colab": {}
      },
      "source": [
        "#malhsah lazma\n",
        "k=0\n",
        "h=14\n",
        "for i in range(len(testcentroidClusters[h])):\n",
        "\n",
        "  if(Labels[testcentroidClusters[h][i]].astype(int)!=clusterlables[h]):\n",
        "     k=k+1\n",
        "     print(\"my label \")\n",
        "     print( Labels[testcentroidClusters[h][i]].astype(int))\n",
        "     print(\"cluster label \")\n",
        "     print( clusterlables[h])\n",
        "     print (\"my index\")\n",
        "     print (i)\n",
        "\n",
        "print(k)\n"
      ],
      "execution_count": 0,
      "outputs": []
    },
    {
      "cell_type": "code",
      "metadata": {
        "id": "92mqNudTKpmg",
        "colab_type": "code",
        "colab": {}
      },
      "source": [
        "def getImagesCentroidtest():\n",
        "    CentroidCluster = [[] for i in range(len(Centroids))]\n",
        "    for j in range(10000):\n",
        "        min = int(1e9)\n",
        "        imageCentroid = -2\n",
        "        for i in range(len(Centroids)):\n",
        "            #print(\"hey\")\n",
        "            # temp = Euclidean(Centroids[i], testImages[j])\n",
        "            temp=np.linalg.norm ( Centroids[i] - testImages[j] )\n",
        "            if(temp < min):\n",
        "                min = temp\n",
        "                imageCentroid = i\n",
        "        \n",
        "        CentroidCluster[imageCentroid].append(j)\n",
        "\n",
        "    return CentroidCluster"
      ],
      "execution_count": 0,
      "outputs": []
    },
    {
      "cell_type": "code",
      "metadata": {
        "id": "DqgR3fIHQn3L",
        "colab_type": "code",
        "colab": {}
      },
      "source": [
        "testcentroidClusters = getImagesCentroidtest()\n"
      ],
      "execution_count": 0,
      "outputs": []
    },
    {
      "cell_type": "code",
      "metadata": {
        "id": "DQmTCHe_NBX-",
        "colab_type": "code",
        "colab": {}
      },
      "source": [
        "#last mohema\n",
        "k=0\n",
        "for j in range(len(testcentroidClusters)):\n",
        "    for i in range(len(testcentroidClusters[j])):\n",
        "\n",
        "      if(testLabels[testcentroidClusters[j][i]].astype(int)==clusterlables[j]):\n",
        "        k=k+1\n",
        "    #print(testLabels[testcentroidClusters[14][i]].astype(int))\n",
        "\n",
        "\n",
        "accuracy=(k/10000)*100\n",
        "print(accuracy)"
      ],
      "execution_count": 0,
      "outputs": []
    },
    {
      "cell_type": "code",
      "metadata": {
        "id": "Bd76H53xQAaS",
        "colab_type": "code",
        "colab": {}
      },
      "source": [
        "for i in range(len(testcentroidClusters)):\n",
        "  print(len(testcentroidClusters[i]))"
      ],
      "execution_count": 0,
      "outputs": []
    },
    {
      "cell_type": "code",
      "metadata": {
        "id": "latdm3nGZYhC",
        "colab_type": "code",
        "colab": {}
      },
      "source": [
        "for i in range(3):\n",
        "    print(\"number of iteration :\")\n",
        "    print(i)\n",
        "    print(\"\\n\")\n",
        "    Centroids=newCentroids.copy()\n",
        "    centroidClusters = getImagesCentroid()\n",
        "    newCentroids = getNewCentroidsfarid(centroidClusters)\n",
        "    losses[counterofloss]=getlossfunction(centroidClusters,Centroids)\n",
        "    counterofloss=counterofloss+1\n",
        "    error=int(np.linalg.norm ( Centroids - np.array(newCentroids)))\n",
        "    if(error==0): \n",
        "      print(\"you reached a steady state\")\n",
        "      break;\n",
        "    \n",
        "Centroids=newCentroids.copy()"
      ],
      "execution_count": 0,
      "outputs": []
    },
    {
      "cell_type": "code",
      "metadata": {
        "id": "v14eL62mH4ma",
        "colab_type": "code",
        "colab": {}
      },
      "source": [
        "print(losses)"
      ],
      "execution_count": 0,
      "outputs": []
    },
    {
      "cell_type": "code",
      "metadata": {
        "id": "dtCy6BGEHx4y",
        "colab_type": "code",
        "colab": {}
      },
      "source": [
        ""
      ],
      "execution_count": 0,
      "outputs": []
    },
    {
      "cell_type": "code",
      "metadata": {
        "id": "xKyEEAmcaKxh",
        "colab_type": "code",
        "colab": {}
      },
      "source": [
        "testcentroidClusters = getImagesCentroidtest()\n"
      ],
      "execution_count": 0,
      "outputs": []
    },
    {
      "cell_type": "code",
      "metadata": {
        "id": "G8p-R-JcapLm",
        "colab_type": "code",
        "colab": {}
      },
      "source": [
        "k=0\n",
        "for j in range(len(testcentroidClusters)):\n",
        "    for i in range(len(testcentroidClusters[j])):\n",
        "\n",
        "      if(testLabels[testcentroidClusters[j][i]].astype(int)==clusterlables[j]):\n",
        "        k=k+1\n",
        "    #print(testLabels[testcentroidClusters[14][i]].astype(int))\n",
        "\n",
        "print(k)"
      ],
      "execution_count": 0,
      "outputs": []
    },
    {
      "cell_type": "code",
      "metadata": {
        "id": "KqecpIHVxAY1",
        "colab_type": "code",
        "colab": {}
      },
      "source": [
        "counterofloss=0\n",
        "for i in range(9):\n",
        "    print(\"number of iteration :\")\n",
        "    print(i)\n",
        "    print(\"\\n\")\n",
        "    Centroids=newCentroids.copy()\n",
        "    centroidClusters = getImagesCentroid()\n",
        "    newCentroids = getNewCentroidsfarid(centroidClusters)\n",
        "    losses[counterofloss]=getlossfunction(centroidClusters,Centroids)\n",
        "    counterofloss=counterofloss+1\n",
        "    error=int(np.linalg.norm ( Centroids - np.array(newCentroids)))\n",
        "    if(error==0): \n",
        "      print(\"saba7 el equilibrium yabo 3amo\")\n",
        "      break;\n",
        "    \n",
        "    \n",
        "\n",
        "\n",
        "Centroids=newCentroids.copy()\n",
        "testcentroidClusters = getImagesCentroidtest()\n",
        "k=0\n",
        "for j in range(len(testcentroidClusters)):\n",
        "    for i in range(len(testcentroidClusters[j])):\n",
        "\n",
        "      if(testLabels[testcentroidClusters[j][i]].astype(int)==clusterlables[j]):\n",
        "        k=k+1\n",
        "    #print(testLabels[testcentroidClusters[14][i]].astype(int))\n",
        "\n",
        "print(k)"
      ],
      "execution_count": 0,
      "outputs": []
    },
    {
      "cell_type": "code",
      "metadata": {
        "id": "dTMCYYIBJj22",
        "colab_type": "code",
        "outputId": "100c60bb-a701-4e8b-a767-c12c7b6abde7",
        "colab": {
          "base_uri": "https://localhost:8080/",
          "height": 54
        }
      },
      "source": [
        "print(losses)"
      ],
      "execution_count": 0,
      "outputs": [
        {
          "output_type": "stream",
          "text": [
            "[7326483597526869569, 7325118768616567184, 7323498292776334532, 7321728798996433472, 7321167966056377252, 7321627506722955812, 7321769779071864833, 7321977599410356449, 7323064427423989937]\n"
          ],
          "name": "stdout"
        }
      ]
    },
    {
      "cell_type": "code",
      "metadata": {
        "id": "l3WXZeYQ9d-v",
        "colab_type": "code",
        "outputId": "1aed3eaa-6ee2-4334-d7d8-796cace9da09",
        "colab": {
          "base_uri": "https://localhost:8080/",
          "height": 1000
        }
      },
      "source": [
        "for i in range(K):\n",
        "     img = np.array(newCentroids[i]).reshape(28, 28)\n",
        "     plt.figure()\n",
        "     plt.imshow(img)\n",
        "\n",
        "\n",
        "\n",
        "     "
      ],
      "execution_count": 0,
      "outputs": [
        {
          "output_type": "display_data",
          "data": {
            "image/png": "[encoded data removed]",
            "text/plain": [
              "<Figure size 432x288 with 1 Axes>"
            ]
          },
          "metadata": {
            "tags": []
          }
        },
        {
          "output_type": "display_data",
          "data": {
            "image/png": "[encoded data removed]",
            "text/plain": [
              "<Figure size 432x288 with 1 Axes>"
            ]
          },
          "metadata": {
            "tags": []
          }
        },
        {
          "output_type": "display_data",
          "data": {
            "image/png": "[encoded data removed]",
            "text/plain": [
              "<Figure size 432x288 with 1 Axes>"
            ]
          },
          "metadata": {
            "tags": []
          }
        },
        {
          "output_type": "display_data",
          "data": {
            "image/png": "[encoded data removed]",
            "text/plain": [
              "<Figure size 432x288 with 1 Axes>"
            ]
          },
          "metadata": {
            "tags": []
          }
        },
        {
          "output_type": "display_data",
          "data": {
            "image/png": "[encoded data removed]",
            "text/plain": [
              "<Figure size 432x288 with 1 Axes>"
            ]
          },
          "metadata": {
            "tags": []
          }
        },
        {
          "output_type": "display_data",
          "data": {
            "image/png": "[encoded data removed]",
            "text/plain": [
              "<Figure size 432x288 with 1 Axes>"
            ]
          },
          "metadata": {
            "tags": []
          }
        },
        {
          "output_type": "display_data",
          "data": {
            "image/png": "[encoded data removed]",
            "text/plain": [
              "<Figure size 432x288 with 1 Axes>"
            ]
          },
          "metadata": {
            "tags": []
          }
        },
        {
          "output_type": "display_data",
          "data": {
            "image/png": "[encoded data removed]",
            "text/plain": [
              "<Figure size 432x288 with 1 Axes>"
            ]
          },
          "metadata": {
            "tags": []
          }
        },
        {
          "output_type": "display_data",
          "data": {
            "image/png": "[encoded data removed]",
            "text/plain": [
              "<Figure size 432x288 with 1 Axes>"
            ]
          },
          "metadata": {
            "tags": []
          }
        },
        {
          "output_type": "display_data",
          "data": {
            "image/png": "[encoded data removed]",
            "text/plain": [
              "<Figure size 432x288 with 1 Axes>"
            ]
          },
          "metadata": {
            "tags": []
          }
        },
        {
          "output_type": "display_data",
          "data": {
            "image/png": "[encoded data removed]",
            "text/plain": [
              "<Figure size 432x288 with 1 Axes>"
            ]
          },
          "metadata": {
            "tags": []
          }
        },
        {
          "output_type": "display_data",
          "data": {
            "image/png": "[encoded data removed]",
            "text/plain": [
              "<Figure size 432x288 with 1 Axes>"
            ]
          },
          "metadata": {
            "tags": []
          }
        },
        {
          "output_type": "display_data",
          "data": {
            "image/png": "[encoded data removed]",
            "text/plain": [
              "<Figure size 432x288 with 1 Axes>"
            ]
          },
          "metadata": {
            "tags": []
          }
        },
        {
          "output_type": "display_data",
          "data": {
            "image/png": "[encoded data removed]",
            "text/plain": [
              "<Figure size 432x288 with 1 Axes>"
            ]
          },
          "metadata": {
            "tags": []
          }
        },
        {
          "output_type": "display_data",
          "data": {
            "image/png": "[encoded data removed]",
            "text/plain": [
              "<Figure size 432x288 with 1 Axes>"
            ]
          },
          "metadata": {
            "tags": []
          }
        }
      ]
    }
  ]
}